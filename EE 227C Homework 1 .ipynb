{
 "cells": [
  {
   "cell_type": "code",
   "execution_count": 70,
   "id": "64840e5b",
   "metadata": {},
   "outputs": [],
   "source": [
    "import numpy as np\n",
    "import math\n",
    "import matplotlib.pyplot as plt"
   ]
  },
  {
   "cell_type": "markdown",
   "id": "6ba0144f",
   "metadata": {},
   "source": [
    "### 1(b)"
   ]
  },
  {
   "cell_type": "code",
   "execution_count": 37,
   "id": "f6d26ae4",
   "metadata": {},
   "outputs": [],
   "source": [
    "# Define the matrix A_k\n",
    "def A_k(k):\n",
    "    mat = np.zeros((10, 10))\n",
    "    # We add 1 to i,j while doing calculation since\n",
    "    # in python they are zero-indexed but in matrix \n",
    "    # calculation they are 1-indexed\n",
    "    for j in range(10):\n",
    "        for i in range(j):\n",
    "            val = np.exp((i+1) / (j+1)) * math.cos((i+1) * (j+1)) * math.sin(k)\n",
    "            mat[i][j] = val\n",
    "            mat[j][i] = val\n",
    "    for i in range(10):\n",
    "        mat[i][i] = ((i+1) / 10) * abs(math.sin(k))\n",
    "        for j in range(10):\n",
    "            if (j != i):\n",
    "                mat[i][i] += abs(mat[i][j])\n",
    "    \n",
    "    return mat\n",
    "        "
   ]
  },
  {
   "cell_type": "code",
   "execution_count": 51,
   "id": "ca42d7c7",
   "metadata": {},
   "outputs": [],
   "source": [
    "# Define the vector b_k\n",
    "def b_k(k):\n",
    "    vec = np.zeros(10)\n",
    "    for i in range(10):\n",
    "        vec[i] = np.exp((i+1) / k) * math.sin((i+1) * k)\n",
    "    return vec"
   ]
  },
  {
   "cell_type": "code",
   "execution_count": 52,
   "id": "92763674",
   "metadata": {},
   "outputs": [],
   "source": [
    "# Define the functin h_k(x) = x^TA_kx -b_k^Tx\n",
    "def h(k):\n",
    "    return lambda x: x.T @ A_k(k) @ x - b_k(k).T @ x\n",
    "    "
   ]
  },
  {
   "cell_type": "code",
   "execution_count": 53,
   "id": "ac4b6331",
   "metadata": {},
   "outputs": [],
   "source": [
    "# Define the function f(x) = max h_k(x)\n",
    "def f(x):\n",
    "    return max([h(k)(x) for k in range(1, 6)])"
   ]
  },
  {
   "cell_type": "code",
   "execution_count": 91,
   "id": "3ff83a76",
   "metadata": {},
   "outputs": [
    {
     "data": {
      "text/plain": [
       "5337.066429311362"
      ]
     },
     "execution_count": 91,
     "metadata": {},
     "output_type": "execute_result"
    }
   ],
   "source": [
    "x0 = np.ones(10)\n",
    "f(x0)"
   ]
  },
  {
   "cell_type": "code",
   "execution_count": 59,
   "id": "e880b4a5",
   "metadata": {},
   "outputs": [],
   "source": [
    "def subgradient(x):\n",
    "    k_star = 0\n",
    "    cur_max = -np.inf\n",
    "    for k in range(1, 6):\n",
    "        if h(k)(x) >= cur_max:\n",
    "            cur_max = h(k)(x)\n",
    "            k_star = k\n",
    "    return 2 * A_k(k_star) @ x - b_k(k_star)"
   ]
  },
  {
   "cell_type": "code",
   "execution_count": 82,
   "id": "dbc16ea6",
   "metadata": {},
   "outputs": [],
   "source": [
    "def subgradient_descent(f, x_init, T, C):\n",
    "    x_t = x_init\n",
    "    t = 1\n",
    "    best_x_lst = [x_init]\n",
    "    best_x = x_init\n",
    "    cur_min = np.inf\n",
    "    while t < T + 1:\n",
    "        subgrad = subgradient(x_t)\n",
    "        x_t = x_t - (C / math.sqrt(t)) * subgrad / np.linalg.norm(subgrad)\n",
    "        if f(x_t) < cur_min:\n",
    "            best_x = x_t\n",
    "            cur_min = f(x_t)\n",
    "        best_x_lst.append(best_x)\n",
    "        t = t + 1\n",
    "        if (t % 1000 == 0):\n",
    "            print(t)\n",
    "    return best_x_lst, cur_min\n",
    "    "
   ]
  },
  {
   "cell_type": "markdown",
   "id": "c0b008a1",
   "metadata": {},
   "source": [
    "### Find minimum empirically using subgradient descent\n",
    "We empirically find the minimun using subgradient descent. If the output of the algorithm does not change much over a large number of iterations, then we are very close to the minimum. "
   ]
  },
  {
   "cell_type": "code",
   "execution_count": 83,
   "id": "6b5775ce",
   "metadata": {},
   "outputs": [
    {
     "data": {
      "text/plain": [
       "-0.3353943485890285"
      ]
     },
     "execution_count": 83,
     "metadata": {},
     "output_type": "execute_result"
    }
   ],
   "source": [
    "_, minimum1 = subgradient_descent(f, x0, 100, 1)\n",
    "minimum1"
   ]
  },
  {
   "cell_type": "code",
   "execution_count": 84,
   "id": "87304bc5",
   "metadata": {},
   "outputs": [
    {
     "name": "stdout",
     "output_type": "stream",
     "text": [
      "1000\n"
     ]
    },
    {
     "data": {
      "text/plain": [
       "-0.8197470048340905"
      ]
     },
     "execution_count": 84,
     "metadata": {},
     "output_type": "execute_result"
    }
   ],
   "source": [
    "_, minimum2 = subgradient_descent(f, x0, 1000, 1)\n",
    "minimum2"
   ]
  },
  {
   "cell_type": "code",
   "execution_count": 85,
   "id": "4ed7a514",
   "metadata": {},
   "outputs": [
    {
     "name": "stdout",
     "output_type": "stream",
     "text": [
      "1000\n",
      "2000\n",
      "3000\n",
      "4000\n",
      "5000\n",
      "6000\n",
      "7000\n",
      "8000\n",
      "9000\n",
      "10000\n"
     ]
    },
    {
     "data": {
      "text/plain": [
       "-0.8364036022719448"
      ]
     },
     "execution_count": 85,
     "metadata": {},
     "output_type": "execute_result"
    }
   ],
   "source": [
    "_, minimum3 = subgradient_descent(f, x0, 10000, 1)\n",
    "minimum3"
   ]
  },
  {
   "cell_type": "code",
   "execution_count": 86,
   "id": "f188ef33",
   "metadata": {
    "scrolled": false
   },
   "outputs": [
    {
     "name": "stdout",
     "output_type": "stream",
     "text": [
      "1000\n",
      "2000\n",
      "3000\n",
      "4000\n",
      "5000\n",
      "6000\n",
      "7000\n",
      "8000\n",
      "9000\n",
      "10000\n",
      "11000\n",
      "12000\n",
      "13000\n",
      "14000\n",
      "15000\n",
      "16000\n",
      "17000\n",
      "18000\n",
      "19000\n",
      "20000\n"
     ]
    },
    {
     "data": {
      "text/plain": [
       "-0.8366982183745468"
      ]
     },
     "execution_count": 86,
     "metadata": {},
     "output_type": "execute_result"
    }
   ],
   "source": [
    "_, minimum3 = subgradient_descent(f, x0, 20000, 1)\n",
    "minimum3"
   ]
  },
  {
   "cell_type": "markdown",
   "id": "38586a50",
   "metadata": {},
   "source": [
    "Based on the calculation above, we see that the output of the algorithm does not change much over 10000 extra iterations. Since the function is convex, we can conclude taht the minimum is roughly -0.84."
   ]
  },
  {
   "cell_type": "code",
   "execution_count": 87,
   "id": "0ff51844",
   "metadata": {},
   "outputs": [],
   "source": [
    "# Set the empirical minimum\n",
    "empirical_min = -0.84"
   ]
  },
  {
   "cell_type": "code",
   "execution_count": 109,
   "id": "581e5d70",
   "metadata": {},
   "outputs": [],
   "source": [
    "def plot_log_log(x_init, T, C):\n",
    "    x_lst, _ = subgradient_descent(f, x_init, T, C)\n",
    "    diff_lst = [f(x) - empirical_min for x in x_lst]\n",
    "    log_diff_lst = [np.log(diff) for diff in diff_lst]\n",
    "    T_lst = [np.log(i) for i in range(T + 1)]\n",
    "    \n",
    "    plt.title(\"Stepsize C/sqrt(T): log(T) vs log(suboptimality gap), when T = \"\\\n",
    "              + str(T) + \", C = \" + str(C))\n",
    "    plt.xlabel(\"log(T)\")\n",
    "    plt.ylabel(\"log(Suboptimality)\")\n",
    "    plt.plot(T_lst, log_diff_lst)\n",
    "\n",
    "    "
   ]
  },
  {
   "cell_type": "code",
   "execution_count": 112,
   "id": "e763be4c",
   "metadata": {},
   "outputs": [
    {
     "name": "stdout",
     "output_type": "stream",
     "text": [
      "1000\n",
      "2000\n",
      "3000\n",
      "4000\n",
      "5000\n",
      "6000\n",
      "7000\n",
      "8000\n",
      "9000\n",
      "10000\n"
     ]
    },
    {
     "name": "stderr",
     "output_type": "stream",
     "text": [
      "/tmp/ipykernel_24/2663795671.py:5: RuntimeWarning: divide by zero encountered in log\n",
      "  T_lst = [np.log(i) for i in range(T + 1)]\n"
     ]
    },
    {
     "data": {
      "image/png": "[encoded data removed]",
      "text/plain": [
       "<Figure size 432x288 with 1 Axes>"
      ]
     },
     "metadata": {
      "needs_background": "light"
     },
     "output_type": "display_data"
    }
   ],
   "source": [
    "plot_log_log(x0, 10000, 1)"
   ]
  },
  {
   "cell_type": "markdown",
   "id": "00c42f2f",
   "metadata": {},
   "source": [
    "### 1(c)"
   ]
  },
  {
   "cell_type": "code",
   "execution_count": 105,
   "id": "cdebdb95",
   "metadata": {},
   "outputs": [],
   "source": [
    "def subgradient_descent_polyak(f, x_init, T):\n",
    "    x_t = x_init\n",
    "    t = 1\n",
    "    best_x_lst = [x_init]\n",
    "    best_x = x_init\n",
    "    cur_min = np.inf\n",
    "    while t < T + 1:\n",
    "        subgrad = subgradient(x_t)\n",
    "        x_t = x_t - ((f(x_t) - empirical_min) / np.linalg.norm(subgrad)) * subgrad / np.linalg.norm(subgrad)\n",
    "        if f(x_t) < cur_min:\n",
    "            best_x = x_t\n",
    "            cur_min = f(x_t)\n",
    "        best_x_lst.append(best_x)\n",
    "        t = t + 1\n",
    "        if (t % 1000 == 0):\n",
    "            print(t)\n",
    "    return best_x_lst, cur_min\n",
    "    "
   ]
  },
  {
   "cell_type": "code",
   "execution_count": 106,
   "id": "ed65ab5a",
   "metadata": {},
   "outputs": [],
   "source": [
    "def plot_log_log_polyak(x_init, T):\n",
    "    x_lst, _ = subgradient_descent_polyak(f, x_init, T)\n",
    "    diff_lst = [f(x) - empirical_min for x in x_lst]\n",
    "    log_diff_lst = [np.log(diff) for diff in diff_lst]\n",
    "    T_lst = [np.log(i) for i in range(T + 1)]\n",
    "    \n",
    "    plt.title(\"Polyak stepsize: log(T) vs log(suboptimality gap), when T = \" + str(T))\n",
    "    plt.xlabel(\"log(T)\")\n",
    "    plt.ylabel(\"log(Suboptimality)\")\n",
    "    plt.plot(T_lst, log_diff_lst)\n",
    "\n",
    "    "
   ]
  },
  {
   "cell_type": "code",
   "execution_count": 108,
   "id": "90815b68",
   "metadata": {},
   "outputs": [
    {
     "name": "stdout",
     "output_type": "stream",
     "text": [
      "1000\n",
      "2000\n",
      "3000\n",
      "4000\n",
      "5000\n",
      "6000\n",
      "7000\n",
      "8000\n",
      "9000\n",
      "10000\n"
     ]
    },
    {
     "name": "stderr",
     "output_type": "stream",
     "text": [
      "/tmp/ipykernel_24/1398204827.py:5: RuntimeWarning: divide by zero encountered in log\n",
      "  T_lst = [np.log(i) for i in range(T + 1)]\n"
     ]
    },
    {
     "data": {
      "image/png": "[encoded data removed]",
      "text/plain": [
       "<Figure size 432x288 with 1 Axes>"
      ]
     },
     "metadata": {
      "needs_background": "light"
     },
     "output_type": "display_data"
    }
   ],
   "source": [
    "plot_log_log_polyak(x0, 10000)"
   ]
  },
  {
   "cell_type": "code",
   "execution_count": null,
   "id": "8700fa70",
   "metadata": {},
   "outputs": [],
   "source": []
  }
 ],
 "metadata": {
  "kernelspec": {
   "display_name": "Python 3 (ipykernel)",
   "language": "python",
   "name": "python3"
  },
  "language_info": {
   "codemirror_mode": {
    "name": "ipython",
    "version": 3
   },
   "file_extension": ".py",
   "mimetype": "text/x-python",
   "name": "python",
   "nbconvert_exporter": "python",
   "pygments_lexer": "ipython3",
   "version": "3.9.10"
  }
 },
 "nbformat": 4,
 "nbformat_minor": 5
}
